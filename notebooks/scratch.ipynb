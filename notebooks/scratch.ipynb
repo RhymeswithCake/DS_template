{
 "cells": [
  {
   "cell_type": "markdown",
   "id": "4e70ac8a",
   "metadata": {},
   "source": [
    "# Scratch pad for test code"
   ]
  },
  {
   "cell_type": "code",
   "execution_count": null,
   "id": "76d23b87",
   "metadata": {},
   "outputs": [],
   "source": []
  }
 ],
 "metadata": {
  "kernelspec": {
   "display_name": "ds",
   "language": "python",
   "name": "python3"
  },
  "language_info": {
   "codemirror_mode": {
    "name": "ipython",
    "version": 3
   },
   "file_extension": ".py",
   "mimetype": "text/x-python",
   "name": "python",
   "nbconvert_exporter": "python",
   "pygments_lexer": "ipython3",
   "version": "3.12.2"
  }
 },
 "nbformat": 4,
 "nbformat_minor": 5
}
